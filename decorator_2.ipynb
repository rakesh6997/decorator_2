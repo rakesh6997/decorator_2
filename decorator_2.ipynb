{
 "cells": [
  {
   "cell_type": "code",
   "execution_count": 13,
   "metadata": {},
   "outputs": [
    {
     "name": "stdout",
     "output_type": "stream",
     "text": [
      "123\n",
      "john\n"
     ]
    }
   ],
   "source": [
    "#Encapsulation\n",
    "class Student:\n",
    "    def __init__(self):\n",
    "        self.__id=123\n",
    "        self.__name='john'\n",
    "    def display(self):\n",
    "        print(self.__id)\n",
    "        print(self.__name)\n",
    "S=Student()\n",
    "\n",
    "print(S._Student__id);\n",
    "print(S._Student__name);\n",
    "\n",
    "\n"
   ]
  },
  {
   "cell_type": "code",
   "execution_count": 26,
   "metadata": {},
   "outputs": [
    {
     "name": "stdout",
     "output_type": "stream",
     "text": [
      "123\n",
      "john\n"
     ]
    }
   ],
   "source": [
    "class Student:\n",
    "    def setId(self,id):\n",
    "        self.id=id\n",
    "    def getId(self):\n",
    "        return self.id\n",
    "    def setName(self,name):\n",
    "        self.name=name\n",
    "    def getName(self):\n",
    "        return self.name\n",
    "s=Student()\n",
    "s.setId(123)\n",
    "s.setName('john')\n",
    "print(s.getId())\n",
    "print(s.getName())"
   ]
  },
  {
   "cell_type": "code",
   "execution_count": null,
   "metadata": {},
   "outputs": [],
   "source": [
    "\n",
    "        \n",
    "        "
   ]
  },
  {
   "cell_type": "code",
   "execution_count": null,
   "metadata": {},
   "outputs": [],
   "source": []
  }
 ],
 "metadata": {
  "kernelspec": {
   "display_name": "Python 3",
   "language": "python",
   "name": "python3"
  },
  "language_info": {
   "codemirror_mode": {
    "name": "ipython",
    "version": 3
   },
   "file_extension": ".py",
   "mimetype": "text/x-python",
   "name": "python",
   "nbconvert_exporter": "python",
   "pygments_lexer": "ipython3",
   "version": "3.7.4"
  }
 },
 "nbformat": 4,
 "nbformat_minor": 2
}
